{
 "cells": [
  {
   "cell_type": "code",
   "execution_count": null,
   "metadata": {
    "collapsed": true
   },
   "outputs": [],
   "source": [
    "import tensorflow as tf\n",
    "from tensorflow.examples.tutorials.mnist import input_data"
   ]
  },
  {
   "cell_type": "code",
   "execution_count": null,
   "metadata": {},
   "outputs": [],
   "source": [
    "import warnings\n",
    "warnings.filterwarnings(\"ignore\")\n",
    "\n",
    "mnist = input_data.read_data_sets(\"../MNIST_data\", one_hot=True)"
   ]
  },
  {
   "cell_type": "code",
   "execution_count": null,
   "metadata": {
    "collapsed": true
   },
   "outputs": [],
   "source": [
    "Lambda = 0.5\n",
    "center_loss_alpha = 0.5\n",
    "num_classes = 10\n",
    "batch_size = 128"
   ]
  },
  {
   "cell_type": "code",
   "execution_count": null,
   "metadata": {},
   "outputs": [],
   "source": [
    "with tf.variable_scope(\"input\"):\n",
    "    X = tf.placeholder(tf.float32, shape=[None, 784], name=\"input_X\")\n",
    "    X_img = tf.reshape(X, shape=[-1, 28, 28, 1], name=\"input_image\")\n",
    "    Y = tf.placeholder(tf.float32, shape=[None, 10], name=\"labels\")"
   ]
  },
  {
   "cell_type": "code",
   "execution_count": null,
   "metadata": {},
   "outputs": [],
   "source": [
    "def center_loss(features, labels, alpha, num_classes, scope=None):\n",
    "    with tf.vairable_scope(name_or_scope=scope, default_name=\"center_loss\"):\n",
    "        len_features = features.get_shape()[1]\n",
    "        centers = tf.get_variable(\"centers\", [num_classes, len_features], dtype=tf.float32, \n",
    "                                 initializer=tf.constant_initializer(0), trainable=False)\n",
    "        labels = tf.reshape(labels, [-1])\n",
    "\n",
    "        center_batch = tf.gather(centers, labels)\n",
    "        loss = tf.nn.l2_loss(features - center_batch)\n",
    "        diff = center_batch - features\n",
    "\n",
    "        unique_label, unique_idx, unique_count = tf.unique_with_counts(labels)\n",
    "        appear_times = tf.gather(unique_count, unique_idx)\n",
    "        appear_times = tf.reshape(appear_times, [-1, 1])\n",
    "\n",
    "        diff = diff / tf.cast((1 + appear_times))\n",
    "        diff = alpha * diff\n",
    "\n",
    "        centers_update_op = tf.scatter_sub(centers, labels, diff)\n",
    "\n",
    "        return loss, centers, centers_update_op"
   ]
  },
  {
   "cell_type": "code",
   "execution_count": null,
   "metadata": {
    "collapsed": true
   },
   "outputs": [],
   "source": [
    "def prelu(x, scope=None):\n",
    "    with tf.variable_scope(name_or_scope=scope, default_name=\"prelu\"):\n",
    "        alpha = tf.get_variable(\"prelu\", shape=x.get_shape()[-1], dtype=x.dtype,\n",
    "                                initializer=tf.constant_initializer(0.1))\n",
    "        return tf.maximium(0.0, x) + alpha * tf.maximium(0.0, x)"
   ]
  },
  {
   "cell_type": "code",
   "execution_count": null,
   "metadata": {},
   "outputs": [],
   "source": [
    "def conv2d(name, x, output_channels, kernel_size=3, strides=1, padding=\"same\"):\n",
    "    with tf.variable_scope(name):\n",
    "        conv = tf.layers.conv2d(x, filters=output_channels, kernel_size=kernel_size,\n",
    "                                strides=strides, padding=padding)\n",
    "        return prelu(conv)"
   ]
  },
  {
   "cell_type": "code",
   "execution_count": null,
   "metadata": {},
   "outputs": [],
   "source": [
    "def max_pooling2d(x, pool_size=2, strides=2, padding=\"same\", name=\"pool\"):\n",
    "    return tf.layers.max_pooling2d(x, pool_size=pool_size, strides=strides,\n",
    "                                   padding=padding, name=name)"
   ]
  },
  {
   "cell_type": "code",
   "execution_count": null,
   "metadata": {},
   "outputs": [],
   "source": [
    "def network(x):\n",
    "    net = conv2d(\"conv1\", x, 32)\n",
    "    net = conv2d(\"conv2\", net, 32)\n",
    "    net = max_pooling2d(net, name=\"pool1\")\n",
    "    \n",
    "    net = conv2d(\"conv3\", net, 64)\n",
    "    net = conv2d(\"conv4\", net, 64)\n",
    "    net = max_pooling2d(net, name=\"pool2\")\n",
    "\n",
    "    net = conv2d(\"conv5\", net, 128)\n",
    "    net = conv2d(\"conv6\", net, 128)\n",
    "    net = max_pooling2d(net, name=\"pool3\")\n",
    "    \n",
    "    _, height, width, channels = net.get_shape().as_list()\n",
    "    flatten = tf.layers.flatten(net, name=\"flatten\")\n",
    "    \n",
    "    feature = tf.layers.dense(flatten, units=2, name=\"fc1\")\n",
    "    feature = prelu(feature)\n",
    "    \n",
    "    logit = tf.layers.dense(features, units=10, name=\"fc2\")\n",
    "    \n",
    "    return logit, feature"
   ]
  },
  {
   "cell_type": "code",
   "execution_count": null,
   "metadata": {},
   "outputs": [],
   "source": [
    "logits, features = network(X_img)\n",
    "\n",
    "with tf.variable_scope(\"loss\"):\n",
    "    with tf.variable_scope(\"center_loss\"):\n",
    "        center_loss, centers, centers_update_op = center_loss(features, Y, center_loss_alpha, num_classes)\n",
    "    with tf.variable_scope(\"softmax_loss\"):\n",
    "        softmax_loss = tf.reduce_mean(tf.nn.sparse_softmax_cross_entropy_with_logits(labels=Y, logits=logits))\n",
    "    with tf.variable_scope(\"total_loss\"):\n",
    "        total_loss = softmax_loss + 0.5 * center_loss"
   ]
  },
  {
   "cell_type": "code",
   "execution_count": null,
   "metadata": {
    "collapsed": true
   },
   "outputs": [],
   "source": []
  }
 ],
 "metadata": {
  "kernelspec": {
   "display_name": "Python 3",
   "language": "python",
   "name": "python3"
  },
  "language_info": {
   "codemirror_mode": {
    "name": "ipython",
    "version": 3
   },
   "file_extension": ".py",
   "mimetype": "text/x-python",
   "name": "python",
   "nbconvert_exporter": "python",
   "pygments_lexer": "ipython3",
   "version": "3.6.3"
  }
 },
 "nbformat": 4,
 "nbformat_minor": 2
}
